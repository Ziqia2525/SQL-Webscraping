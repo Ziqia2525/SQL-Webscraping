{
 "cells": [
  {
   "cell_type": "code",
   "execution_count": 1,
   "metadata": {},
   "outputs": [],
   "source": [
    "from bs4 import BeautifulSoup\n",
    "import pandas as pd\n",
    "import numpy as np\n",
    "import requests\n",
    "from urllib.parse import urljoin\n",
    "import re"
   ]
  },
  {
   "cell_type": "code",
   "execution_count": 2,
   "metadata": {},
   "outputs": [
    {
     "data": {
      "text/plain": [
       "<Response [200]>"
      ]
     },
     "execution_count": 2,
     "metadata": {},
     "output_type": "execute_result"
    }
   ],
   "source": [
    "# THE 200 BEST HORROR MOVIES OF ALL TIME BY Rotten Tomatoes\n",
    "\n",
    "url_rt = 'https://editorial.rottentomatoes.com/guide/best-horror-movies-of-all-time/'\n",
    "page_rt = requests.get(url_rt)\n",
    "page_rt\n"
   ]
  },
  {
   "cell_type": "code",
   "execution_count": 3,
   "metadata": {},
   "outputs": [],
   "source": [
    "soup = BeautifulSoup(page_rt.content, \"html.parser\")"
   ]
  },
  {
   "cell_type": "code",
   "execution_count": 4,
   "metadata": {},
   "outputs": [
    {
     "data": {
      "text/html": [
       "<div>\n",
       "<style scoped>\n",
       "    .dataframe tbody tr th:only-of-type {\n",
       "        vertical-align: middle;\n",
       "    }\n",
       "\n",
       "    .dataframe tbody tr th {\n",
       "        vertical-align: top;\n",
       "    }\n",
       "\n",
       "    .dataframe thead th {\n",
       "        text-align: right;\n",
       "    }\n",
       "</style>\n",
       "<table border=\"1\" class=\"dataframe\">\n",
       "  <thead>\n",
       "    <tr style=\"text-align: right;\">\n",
       "      <th></th>\n",
       "      <th>titles</th>\n",
       "      <th>ratings</th>\n",
       "      <th>director_links</th>\n",
       "      <th>movie_links</th>\n",
       "      <th>first_cast_links</th>\n",
       "      <th>second_cast_links</th>\n",
       "      <th>poster_links</th>\n",
       "    </tr>\n",
       "  </thead>\n",
       "  <tbody>\n",
       "    <tr>\n",
       "      <th>0</th>\n",
       "      <td>Alien</td>\n",
       "      <td>98%</td>\n",
       "      <td>https://www.rottentomatoes.com/celebrity/ridle...</td>\n",
       "      <td>https://www.rottentomatoes.com/m/alien</td>\n",
       "      <td>https://www.rottentomatoes.com/celebrity/tom_s...</td>\n",
       "      <td>https://www.rottentomatoes.com/celebrity/sigou...</td>\n",
       "      <td>https://resizing.flixster.com/4uZ_1paESM2WNszw...</td>\n",
       "    </tr>\n",
       "    <tr>\n",
       "      <th>1</th>\n",
       "      <td>Let the Right One In</td>\n",
       "      <td>98%</td>\n",
       "      <td>https://www.rottentomatoes.com/celebrity/tomas...</td>\n",
       "      <td>https://www.rottentomatoes.com/m/let_the_right...</td>\n",
       "      <td>https://www.rottentomatoes.com/celebrity/kare_...</td>\n",
       "      <td>https://www.rottentomatoes.com/celebrity/lina-...</td>\n",
       "      <td>https://resizing.flixster.com/oLNICHyrHLPL5plt...</td>\n",
       "    </tr>\n",
       "    <tr>\n",
       "      <th>2</th>\n",
       "      <td>Aliens</td>\n",
       "      <td>98%</td>\n",
       "      <td>https://www.rottentomatoes.com/celebrity/james...</td>\n",
       "      <td>https://www.rottentomatoes.com/m/1000617-aliens</td>\n",
       "      <td>https://www.rottentomatoes.com/celebrity/sigou...</td>\n",
       "      <td>https://www.rottentomatoes.com/celebrity/carri...</td>\n",
       "      <td>https://resizing.flixster.com/-5ikyG7jMXnwUBPo...</td>\n",
       "    </tr>\n",
       "    <tr>\n",
       "      <th>3</th>\n",
       "      <td>Jaws</td>\n",
       "      <td>97%</td>\n",
       "      <td>https://www.rottentomatoes.com/celebrity/steve...</td>\n",
       "      <td>https://www.rottentomatoes.com/m/jaws</td>\n",
       "      <td>https://www.rottentomatoes.com/celebrity/roy_s...</td>\n",
       "      <td>https://www.rottentomatoes.com/celebrity/rober...</td>\n",
       "      <td>https://resizing.flixster.com/xOAeO8lhaRNEJXvQ...</td>\n",
       "    </tr>\n",
       "    <tr>\n",
       "      <th>4</th>\n",
       "      <td>The Silence of the Lambs</td>\n",
       "      <td>95%</td>\n",
       "      <td>https://www.rottentomatoes.com/celebrity/jonat...</td>\n",
       "      <td>https://www.rottentomatoes.com/m/silence_of_th...</td>\n",
       "      <td>https://www.rottentomatoes.com/celebrity/jodie...</td>\n",
       "      <td>https://www.rottentomatoes.com/celebrity/antho...</td>\n",
       "      <td>https://resizing.flixster.com/7-lNwGZYmqtDrxyg...</td>\n",
       "    </tr>\n",
       "  </tbody>\n",
       "</table>\n",
       "</div>"
      ],
      "text/plain": [
       "                     titles ratings  \\\n",
       "0                     Alien     98%   \n",
       "1      Let the Right One In     98%   \n",
       "2                    Aliens     98%   \n",
       "3                      Jaws     97%   \n",
       "4  The Silence of the Lambs     95%   \n",
       "\n",
       "                                      director_links  \\\n",
       "0  https://www.rottentomatoes.com/celebrity/ridle...   \n",
       "1  https://www.rottentomatoes.com/celebrity/tomas...   \n",
       "2  https://www.rottentomatoes.com/celebrity/james...   \n",
       "3  https://www.rottentomatoes.com/celebrity/steve...   \n",
       "4  https://www.rottentomatoes.com/celebrity/jonat...   \n",
       "\n",
       "                                         movie_links  \\\n",
       "0             https://www.rottentomatoes.com/m/alien   \n",
       "1  https://www.rottentomatoes.com/m/let_the_right...   \n",
       "2    https://www.rottentomatoes.com/m/1000617-aliens   \n",
       "3              https://www.rottentomatoes.com/m/jaws   \n",
       "4  https://www.rottentomatoes.com/m/silence_of_th...   \n",
       "\n",
       "                                    first_cast_links  \\\n",
       "0  https://www.rottentomatoes.com/celebrity/tom_s...   \n",
       "1  https://www.rottentomatoes.com/celebrity/kare_...   \n",
       "2  https://www.rottentomatoes.com/celebrity/sigou...   \n",
       "3  https://www.rottentomatoes.com/celebrity/roy_s...   \n",
       "4  https://www.rottentomatoes.com/celebrity/jodie...   \n",
       "\n",
       "                                   second_cast_links  \\\n",
       "0  https://www.rottentomatoes.com/celebrity/sigou...   \n",
       "1  https://www.rottentomatoes.com/celebrity/lina-...   \n",
       "2  https://www.rottentomatoes.com/celebrity/carri...   \n",
       "3  https://www.rottentomatoes.com/celebrity/rober...   \n",
       "4  https://www.rottentomatoes.com/celebrity/antho...   \n",
       "\n",
       "                                        poster_links  \n",
       "0  https://resizing.flixster.com/4uZ_1paESM2WNszw...  \n",
       "1  https://resizing.flixster.com/oLNICHyrHLPL5plt...  \n",
       "2  https://resizing.flixster.com/-5ikyG7jMXnwUBPo...  \n",
       "3  https://resizing.flixster.com/xOAeO8lhaRNEJXvQ...  \n",
       "4  https://resizing.flixster.com/7-lNwGZYmqtDrxyg...  "
      ]
     },
     "execution_count": 4,
     "metadata": {},
     "output_type": "execute_result"
    }
   ],
   "source": [
    "# Extract the titles, ratings, and links to the film, director, first cast, second cast and poster\n",
    "\n",
    "titles = []\n",
    "tmeter_score = []\n",
    "director_links = []\n",
    "movie_links = []\n",
    "poster_links = []\n",
    "first_cast_links = []\n",
    "second_cast_links = []\n",
    "\n",
    "films = soup.find_all('div', class_=\"row countdown-item\")\n",
    "website_url = 'https://www.rottentomatoes.com/'\n",
    "\n",
    "# Include titles splitting and links combining for data cleaning\n",
    "\n",
    "for film in films:\n",
    "    tmeter_score.append(film.find('span', class_='tMeterScore').text.strip())\n",
    "    title = film.find('div', class_='article_movie_title').text.strip().split('\\n')[0]\n",
    "    titles.append(re.sub(r'\\s*\\(\\d{4}\\)\\s*\\d+%$', '', title))\n",
    "    movie_links.append(film.a['href'])\n",
    "    director_links.append(urljoin(website_url,film.find('div', class_= 'info director').a['href']))\n",
    "    poster_links.append(film.find('img', class_= 'article_poster').get('src'))\n",
    "    first_cast_links.append(urljoin(website_url,film.find('div', class_='info cast').a['href']))\n",
    "    cast_links = film.find('div', class_='info cast').find_all('a')\n",
    "    if len(cast_links) >= 2:\n",
    "     second_cast_links.append(urljoin(website_url,cast_links[1]['href']))\n",
    "    else:\n",
    "        second_cast_links.append(None)\n",
    "\n",
    "    \n",
    "df_extracted_films = pd.DataFrame({'titles': titles, \n",
    "                                   'ratings': tmeter_score, \n",
    "                                   'director_links': director_links,\n",
    "                                   'movie_links': movie_links,\n",
    "                                   'first_cast_links':first_cast_links,\n",
    "                                   'second_cast_links':second_cast_links,\n",
    "                                   'poster_links': poster_links\n",
    "                                  })\n",
    "df_extracted_films.head()"
   ]
  },
  {
   "cell_type": "code",
   "execution_count": 5,
   "metadata": {},
   "outputs": [
    {
     "name": "stdout",
     "output_type": "stream",
     "text": [
      "movie: https://www.rottentomatoes.com/m/jaws\n",
      "first cast: https://www.rottentomatoes.com/celebrity/roy_scheider\n",
      "\n"
     ]
    },
    {
     "data": {
      "text/html": [
       "<img src=\"https://resizing.flixster.com/xOAeO8lhaRNEJXvQBS1rWq3SdWQ=/fit-in/180x240/v2/https://resizing.flixster.com/-XZAfHZM39UwaGJIFWKAE8fS0ak=/v3/t/assets/p8174_p_v8_av.jpg\"/>"
      ],
      "text/plain": [
       "<IPython.core.display.Image object>"
      ]
     },
     "execution_count": 5,
     "metadata": {},
     "output_type": "execute_result"
    }
   ],
   "source": [
    "from IPython.display import Image\n",
    "\n",
    "print(f'''movie: {df_extracted_films['movie_links'][3]}\n",
    "first cast: {df_extracted_films['first_cast_links'][3]}\n",
    "''')\n",
    "\n",
    "Image(url= df_extracted_films['poster_links'][3])"
   ]
  },
  {
   "cell_type": "code",
   "execution_count": 6,
   "metadata": {},
   "outputs": [],
   "source": [
    "# Convert ratings\n",
    "\n",
    "df_extracted_films['ratings'] = df_extracted_films['ratings'].str.replace('%', '').astype(float)"
   ]
  },
  {
   "cell_type": "code",
   "execution_count": 7,
   "metadata": {},
   "outputs": [],
   "source": [
    "# Extract names\n",
    "\n",
    "df_extracted_films['director'] = df_extracted_films['director_links'].str.split('/').str[-1]\n",
    "df_extracted_films['first_cast'] = df_extracted_films['first_cast_links'].str.split('/').str[-1]\n",
    "df_extracted_films['second_cast'] = df_extracted_films['second_cast_links'].str.split('/').str[-1]"
   ]
  },
  {
   "cell_type": "code",
   "execution_count": 8,
   "metadata": {},
   "outputs": [
    {
     "data": {
      "text/html": [
       "<div>\n",
       "<style scoped>\n",
       "    .dataframe tbody tr th:only-of-type {\n",
       "        vertical-align: middle;\n",
       "    }\n",
       "\n",
       "    .dataframe tbody tr th {\n",
       "        vertical-align: top;\n",
       "    }\n",
       "\n",
       "    .dataframe thead th {\n",
       "        text-align: right;\n",
       "    }\n",
       "</style>\n",
       "<table border=\"1\" class=\"dataframe\">\n",
       "  <thead>\n",
       "    <tr style=\"text-align: right;\">\n",
       "      <th></th>\n",
       "      <th>titles</th>\n",
       "      <th>ratings</th>\n",
       "      <th>director</th>\n",
       "      <th>first_cast</th>\n",
       "      <th>second_cast</th>\n",
       "    </tr>\n",
       "  </thead>\n",
       "  <tbody>\n",
       "    <tr>\n",
       "      <th>0</th>\n",
       "      <td>Alien</td>\n",
       "      <td>98.0</td>\n",
       "      <td>ridley_scott</td>\n",
       "      <td>tom_skerritt</td>\n",
       "      <td>sigourney_weaver</td>\n",
       "    </tr>\n",
       "    <tr>\n",
       "      <th>1</th>\n",
       "      <td>Let the Right One In</td>\n",
       "      <td>98.0</td>\n",
       "      <td>tomas-alfredson</td>\n",
       "      <td>kare_hedebrant</td>\n",
       "      <td>lina-leandersson</td>\n",
       "    </tr>\n",
       "    <tr>\n",
       "      <th>2</th>\n",
       "      <td>Aliens</td>\n",
       "      <td>98.0</td>\n",
       "      <td>james_cameron</td>\n",
       "      <td>sigourney_weaver</td>\n",
       "      <td>carrie-henn</td>\n",
       "    </tr>\n",
       "    <tr>\n",
       "      <th>3</th>\n",
       "      <td>Jaws</td>\n",
       "      <td>97.0</td>\n",
       "      <td>steve_spielberg</td>\n",
       "      <td>roy_scheider</td>\n",
       "      <td>robert_shaw</td>\n",
       "    </tr>\n",
       "    <tr>\n",
       "      <th>4</th>\n",
       "      <td>The Silence of the Lambs</td>\n",
       "      <td>95.0</td>\n",
       "      <td>jonathan_demme</td>\n",
       "      <td>jodie_foster</td>\n",
       "      <td>anthony_hopkins</td>\n",
       "    </tr>\n",
       "  </tbody>\n",
       "</table>\n",
       "</div>"
      ],
      "text/plain": [
       "                     titles  ratings         director        first_cast  \\\n",
       "0                     Alien     98.0     ridley_scott      tom_skerritt   \n",
       "1      Let the Right One In     98.0  tomas-alfredson    kare_hedebrant   \n",
       "2                    Aliens     98.0    james_cameron  sigourney_weaver   \n",
       "3                      Jaws     97.0  steve_spielberg      roy_scheider   \n",
       "4  The Silence of the Lambs     95.0   jonathan_demme      jodie_foster   \n",
       "\n",
       "        second_cast  \n",
       "0  sigourney_weaver  \n",
       "1  lina-leandersson  \n",
       "2       carrie-henn  \n",
       "3       robert_shaw  \n",
       "4   anthony_hopkins  "
      ]
     },
     "execution_count": 8,
     "metadata": {},
     "output_type": "execute_result"
    }
   ],
   "source": [
    "df_extracted_films_cleaned=pd.DataFrame(df_extracted_films[['titles','ratings','director','first_cast','second_cast']])\n",
    "df_extracted_films_cleaned.fillna('Not Available')\n",
    "df_extracted_films_cleaned.head()"
   ]
  }
 ],
 "metadata": {
  "kernelspec": {
   "display_name": "Python 3",
   "language": "python",
   "name": "python3"
  },
  "language_info": {
   "codemirror_mode": {
    "name": "ipython",
    "version": 3
   },
   "file_extension": ".py",
   "mimetype": "text/x-python",
   "name": "python",
   "nbconvert_exporter": "python",
   "pygments_lexer": "ipython3",
   "version": "3.12.0"
  }
 },
 "nbformat": 4,
 "nbformat_minor": 2
}
